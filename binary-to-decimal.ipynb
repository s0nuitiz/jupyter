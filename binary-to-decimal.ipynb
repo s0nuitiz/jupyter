{
 "cells": [
  {
   "cell_type": "code",
   "execution_count": 2,
   "id": "fourth-budget",
   "metadata": {},
   "outputs": [
    {
     "name": "stdout",
     "output_type": "stream",
     "text": [
      "Enter a Binary number : 10110101110101000101\n",
      "Dacimal of 10110101110101000101 is 744773\n"
     ]
    }
   ],
   "source": [
    "n = int(input(\"Enter a Binary number : \"))\n",
    "d = 0\n",
    "i = 0\n",
    "b = n\n",
    "while b > 0:\n",
    "    rem = b % 10\n",
    "    d += rem*(2**i)\n",
    "    b = b//10\n",
    "    i += 1\n",
    "print(\"Dacimal of\", n, \"is\", d)"
   ]
  },
  {
   "cell_type": "code",
   "execution_count": null,
   "id": "material-agency",
   "metadata": {},
   "outputs": [],
   "source": []
  }
 ],
 "metadata": {
  "kernelspec": {
   "display_name": "Python 3",
   "language": "python",
   "name": "python3"
  },
  "language_info": {
   "codemirror_mode": {
    "name": "ipython",
    "version": 3
   },
   "file_extension": ".py",
   "mimetype": "text/x-python",
   "name": "python",
   "nbconvert_exporter": "python",
   "pygments_lexer": "ipython3",
   "version": "3.8.6"
  }
 },
 "nbformat": 4,
 "nbformat_minor": 5
}
